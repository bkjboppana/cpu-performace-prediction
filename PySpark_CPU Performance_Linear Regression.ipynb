{
 "cells": [
  {
   "cell_type": "markdown",
   "metadata": {},
   "source": [
    "# Predicting CPU performance using Linear Regression"
   ]
  },
  {
   "cell_type": "markdown",
   "metadata": {},
   "source": [
    "CPU ERP (Estimated relative performance) is predicted using Spark MLlib Linear Regression in terms of CPU cycle time and memory in this notebook. Dataset is downloaded from UCI machine learning repository. There are 209 instances and 8 features.\n",
    "https://archive.ics.uci.edu/ml/datasets/Computer+Hardware"
   ]
  },
  {
   "cell_type": "code",
   "execution_count": 94,
   "metadata": {
    "collapsed": true
   },
   "outputs": [],
   "source": [
    "#Initializing pyspark session\n",
    "import findspark\n",
    "findspark.init('/home/ubuntu/spark-2.2.1-bin-hadoop2.7')\n",
    "import pyspark\n",
    "from pyspark.sql import SparkSession\n",
    "spark = SparkSession.builder.appName('cpu_performance').getOrCreate()"
   ]
  },
  {
   "cell_type": "code",
   "execution_count": 95,
   "metadata": {
    "collapsed": false
   },
   "outputs": [
    {
     "data": {
      "text/plain": [
       "['_c0', '_c1', '_c2', '_c3', '_c4', '_c5', '_c6', '_c7', '_c8', '_c9']"
      ]
     },
     "execution_count": 95,
     "metadata": {},
     "output_type": "execute_result"
    }
   ],
   "source": [
    "data = spark.read.csv('Computerhardware.txt',inferSchema=True,header=None)\n",
    "data.columns"
   ]
  },
  {
   "cell_type": "markdown",
   "metadata": {},
   "source": [
    "Attribute Information:\n",
    "\n",
    "1. Vendor name: 30 \n",
    "(adviser, amdahl,apollo, basf, bti, burroughs, c.r.d, cambex, cdc, dec, \n",
    "dg, formation, four-phase, gould, honeywell, hp, ibm, ipl, magnuson, \n",
    "microdata, nas, ncr, nixdorf, perkin-elmer, prime, siemens, sperry, \n",
    "sratus, wang) \n",
    "2. Model Name: Many unique symbols \n",
    "3. MYCT: Machine cycle time in nanoseconds (integer) \n",
    "4. MMIN: Minimum main memory in kilobytes (integer) \n",
    "5. MMAX: Maximum main memory in kilobytes (integer) \n",
    "6. CACH: Cache memory in kilobytes (integer) \n",
    "7. CHMIN: Minimum channels in units (integer) \n",
    "8. CHMAX: Maximum channels in units (integer) \n",
    "9. PRP: Published relative performance (integer) \n",
    "10. ERP: Estimated relative performance from the original article (integer)\n",
    "\n",
    "Renaming columns as in dataset description file"
   ]
  },
  {
   "cell_type": "code",
   "execution_count": 96,
   "metadata": {
    "collapsed": false
   },
   "outputs": [
    {
     "name": "stdout",
     "output_type": "stream",
     "text": [
      "+---------+--------+----+-----+-----+----+-----+-----+----+----+\n",
      "|   vendor|   model|MYCT| MMIN| MMAX|CACH|CHMIN|CHMAX| PRP| ERP|\n",
      "+---------+--------+----+-----+-----+----+-----+-----+----+----+\n",
      "|  adviser|   32/60| 125|  256| 6000| 256|   16|  128| 198| 199|\n",
      "|   amdahl|  470v/7|  29| 8000|32000|  32|    8|   32| 269| 253|\n",
      "|   amdahl| 470v/7a|  29| 8000|32000|  32|    8|   32| 220| 253|\n",
      "|   amdahl| 470v/7b|  29| 8000|32000|  32|    8|   32| 172| 253|\n",
      "|   amdahl| 470v/7c|  29| 8000|16000|  32|    8|   16| 132| 132|\n",
      "|   amdahl|  470v/b|  26| 8000|32000|  64|    8|   32| 318| 290|\n",
      "|   amdahl|580-5840|  23|16000|32000|  64|   16|   32| 367| 381|\n",
      "|   amdahl|580-5850|  23|16000|32000|  64|   16|   32| 489| 381|\n",
      "|   amdahl|580-5860|  23|16000|64000|  64|   16|   32| 636| 749|\n",
      "|   amdahl|580-5880|  23|32000|64000| 128|   32|   64|1144|1238|\n",
      "|   apollo|   dn320| 400| 1000| 3000|   0|    1|    2|  38|  23|\n",
      "|   apollo|   dn420| 400|  512| 3500|   4|    1|    6|  40|  24|\n",
      "|     basf|    7/65|  60| 2000| 8000|  65|    1|    8|  92|  70|\n",
      "|     basf|    7/68|  50| 4000|16000|  65|    1|    8| 138| 117|\n",
      "|      bti|    5000| 350|   64|   64|   0|    1|    4|  10|  15|\n",
      "|      bti|    8000| 200|  512|16000|   0|    4|   32|  35|  64|\n",
      "|burroughs|   b1955| 167|  524| 2000|   8|    4|   15|  19|  23|\n",
      "|burroughs|   b2900| 143|  512| 5000|   0|    7|   32|  28|  29|\n",
      "|burroughs|   b2925| 143| 1000| 2000|   0|    5|   16|  31|  22|\n",
      "|burroughs|   b4955| 110| 5000| 5000| 142|    8|   64| 120| 124|\n",
      "+---------+--------+----+-----+-----+----+-----+-----+----+----+\n",
      "only showing top 20 rows\n",
      "\n",
      "root\n",
      " |-- vendor: string (nullable = true)\n",
      " |-- model: string (nullable = true)\n",
      " |-- MYCT: integer (nullable = true)\n",
      " |-- MMIN: integer (nullable = true)\n",
      " |-- MMAX: integer (nullable = true)\n",
      " |-- CACH: integer (nullable = true)\n",
      " |-- CHMIN: integer (nullable = true)\n",
      " |-- CHMAX: integer (nullable = true)\n",
      " |-- PRP: integer (nullable = true)\n",
      " |-- ERP: integer (nullable = true)\n",
      "\n"
     ]
    }
   ],
   "source": [
    "data = data.selectExpr(\"_c0 as vendor\", \"_c1 as model\",'_c2 as MYCT','_c3 as MMIN','_c4 as MMAX','_c5 as CACH','_c6 as CHMIN','_c7 as CHMAX','_c8 as PRP','_c9 as ERP')\n",
    "data.show()\n",
    "data.printSchema()\n",
    "data.columns\n",
    "data=data.na.drop()"
   ]
  },
  {
   "cell_type": "markdown",
   "metadata": {},
   "source": [
    "Looking at dataset schema, there are two string features and need to be converted to integers for modeling. In pyspark, this can be achieved using StringIndexer and OneHotEncoder"
   ]
  },
  {
   "cell_type": "code",
   "execution_count": 97,
   "metadata": {
    "collapsed": true
   },
   "outputs": [],
   "source": [
    "from pyspark.ml.feature import (VectorAssembler,VectorIndexer,OneHotEncoder,StringIndexer)\n",
    "vendor_indexer = StringIndexer(inputCol = 'vendor', outputCol = 'vendorIndex')\n",
    "model_indexer = StringIndexer(inputCol = 'model', outputCol = 'modelIndex')\n"
   ]
  },
  {
   "cell_type": "code",
   "execution_count": 98,
   "metadata": {
    "collapsed": true
   },
   "outputs": [],
   "source": [
    "vendor_Encoder = OneHotEncoder(inputCol = 'vendorIndex', outputCol = 'vendorVec')\n",
    "model_Encoder = OneHotEncoder(inputCol = 'modelIndex', outputCol = 'modelVec')"
   ]
  },
  {
   "cell_type": "code",
   "execution_count": 99,
   "metadata": {
    "collapsed": false
   },
   "outputs": [
    {
     "name": "stdout",
     "output_type": "stream",
     "text": [
      "+---------+--------+----+-----+-----+----+-----+-----+----+----+----------+-----------------+\n",
      "|   vendor|   model|MYCT| MMIN| MMAX|CACH|CHMIN|CHMAX| PRP| ERP|modelIndex|         modelVec|\n",
      "+---------+--------+----+-----+-----+----+-----+-----+----+----+----------+-----------------+\n",
      "|  adviser|   32/60| 125|  256| 6000| 256|   16|  128| 198| 199|     181.0|(208,[181],[1.0])|\n",
      "|   amdahl|  470v/7|  29| 8000|32000|  32|    8|   32| 269| 253|     131.0|(208,[131],[1.0])|\n",
      "|   amdahl| 470v/7a|  29| 8000|32000|  32|    8|   32| 220| 253|      51.0| (208,[51],[1.0])|\n",
      "|   amdahl| 470v/7b|  29| 8000|32000|  32|    8|   32| 172| 253|     196.0|(208,[196],[1.0])|\n",
      "|   amdahl| 470v/7c|  29| 8000|16000|  32|    8|   16| 132| 132|      43.0| (208,[43],[1.0])|\n",
      "|   amdahl|  470v/b|  26| 8000|32000|  64|    8|   32| 318| 290|      29.0| (208,[29],[1.0])|\n",
      "|   amdahl|580-5840|  23|16000|32000|  64|   16|   32| 367| 381|      89.0| (208,[89],[1.0])|\n",
      "|   amdahl|580-5850|  23|16000|32000|  64|   16|   32| 489| 381|     167.0|(208,[167],[1.0])|\n",
      "|   amdahl|580-5860|  23|16000|64000|  64|   16|   32| 636| 749|      69.0| (208,[69],[1.0])|\n",
      "|   amdahl|580-5880|  23|32000|64000| 128|   32|   64|1144|1238|     148.0|(208,[148],[1.0])|\n",
      "|   apollo|   dn320| 400| 1000| 3000|   0|    1|    2|  38|  23|     135.0|(208,[135],[1.0])|\n",
      "|   apollo|   dn420| 400|  512| 3500|   4|    1|    6|  40|  24|      58.0| (208,[58],[1.0])|\n",
      "|     basf|    7/65|  60| 2000| 8000|  65|    1|    8|  92|  70|      45.0| (208,[45],[1.0])|\n",
      "|     basf|    7/68|  50| 4000|16000|  65|    1|    8| 138| 117|     105.0|(208,[105],[1.0])|\n",
      "|      bti|    5000| 350|   64|   64|   0|    1|    4|  10|  15|     189.0|(208,[189],[1.0])|\n",
      "|      bti|    8000| 200|  512|16000|   0|    4|   32|  35|  64|     111.0|(208,[111],[1.0])|\n",
      "|burroughs|   b1955| 167|  524| 2000|   8|    4|   15|  19|  23|     175.0|(208,[175],[1.0])|\n",
      "|burroughs|   b2900| 143|  512| 5000|   0|    7|   32|  28|  29|     173.0|(208,[173],[1.0])|\n",
      "|burroughs|   b2925| 143| 1000| 2000|   0|    5|   16|  31|  22|     166.0|(208,[166],[1.0])|\n",
      "|burroughs|   b4955| 110| 5000| 5000| 142|    8|   64| 120| 124|     127.0|(208,[127],[1.0])|\n",
      "+---------+--------+----+-----+-----+----+-----+-----+----+----+----------+-----------------+\n",
      "only showing top 20 rows\n",
      "\n"
     ]
    }
   ],
   "source": [
    "modell=  model_indexer.fit(data)\n",
    "indexed=modell.transform(data)\n",
    "encoded = model_Encoder.transform(indexed)\n",
    "encoded.show()"
   ]
  },
  {
   "cell_type": "code",
   "execution_count": 100,
   "metadata": {
    "collapsed": false
   },
   "outputs": [
    {
     "name": "stdout",
     "output_type": "stream",
     "text": [
      "+---------+--------+----+-----+-----+----+-----+-----+----+----+----------+-----------------+-----------+---------------+\n",
      "|   vendor|   model|MYCT| MMIN| MMAX|CACH|CHMIN|CHMAX| PRP| ERP|modelIndex|         modelVec|vendorIndex|      vendorVec|\n",
      "+---------+--------+----+-----+-----+----+-----+-----+----+----+----------+-----------------+-----------+---------------+\n",
      "|  adviser|   32/60| 125|  256| 6000| 256|   16|  128| 198| 199|     181.0|(208,[181],[1.0])|       28.0|(29,[28],[1.0])|\n",
      "|   amdahl|  470v/7|  29| 8000|32000|  32|    8|   32| 269| 253|     131.0|(208,[131],[1.0])|        6.0| (29,[6],[1.0])|\n",
      "|   amdahl| 470v/7a|  29| 8000|32000|  32|    8|   32| 220| 253|      51.0| (208,[51],[1.0])|        6.0| (29,[6],[1.0])|\n",
      "|   amdahl| 470v/7b|  29| 8000|32000|  32|    8|   32| 172| 253|     196.0|(208,[196],[1.0])|        6.0| (29,[6],[1.0])|\n",
      "|   amdahl| 470v/7c|  29| 8000|16000|  32|    8|   16| 132| 132|      43.0| (208,[43],[1.0])|        6.0| (29,[6],[1.0])|\n",
      "|   amdahl|  470v/b|  26| 8000|32000|  64|    8|   32| 318| 290|      29.0| (208,[29],[1.0])|        6.0| (29,[6],[1.0])|\n",
      "|   amdahl|580-5840|  23|16000|32000|  64|   16|   32| 367| 381|      89.0| (208,[89],[1.0])|        6.0| (29,[6],[1.0])|\n",
      "|   amdahl|580-5850|  23|16000|32000|  64|   16|   32| 489| 381|     167.0|(208,[167],[1.0])|        6.0| (29,[6],[1.0])|\n",
      "|   amdahl|580-5860|  23|16000|64000|  64|   16|   32| 636| 749|      69.0| (208,[69],[1.0])|        6.0| (29,[6],[1.0])|\n",
      "|   amdahl|580-5880|  23|32000|64000| 128|   32|   64|1144|1238|     148.0|(208,[148],[1.0])|        6.0| (29,[6],[1.0])|\n",
      "|   apollo|   dn320| 400| 1000| 3000|   0|    1|    2|  38|  23|     135.0|(208,[135],[1.0])|       24.0|(29,[24],[1.0])|\n",
      "|   apollo|   dn420| 400|  512| 3500|   4|    1|    6|  40|  24|      58.0| (208,[58],[1.0])|       24.0|(29,[24],[1.0])|\n",
      "|     basf|    7/65|  60| 2000| 8000|  65|    1|    8|  92|  70|      45.0| (208,[45],[1.0])|       23.0|(29,[23],[1.0])|\n",
      "|     basf|    7/68|  50| 4000|16000|  65|    1|    8| 138| 117|     105.0|(208,[105],[1.0])|       23.0|(29,[23],[1.0])|\n",
      "|      bti|    5000| 350|   64|   64|   0|    1|    4|  10|  15|     189.0|(208,[189],[1.0])|       22.0|(29,[22],[1.0])|\n",
      "|      bti|    8000| 200|  512|16000|   0|    4|   32|  35|  64|     111.0|(208,[111],[1.0])|       22.0|(29,[22],[1.0])|\n",
      "|burroughs|   b1955| 167|  524| 2000|   8|    4|   15|  19|  23|     175.0|(208,[175],[1.0])|        8.0| (29,[8],[1.0])|\n",
      "|burroughs|   b2900| 143|  512| 5000|   0|    7|   32|  28|  29|     173.0|(208,[173],[1.0])|        8.0| (29,[8],[1.0])|\n",
      "|burroughs|   b2925| 143| 1000| 2000|   0|    5|   16|  31|  22|     166.0|(208,[166],[1.0])|        8.0| (29,[8],[1.0])|\n",
      "|burroughs|   b4955| 110| 5000| 5000| 142|    8|   64| 120| 124|     127.0|(208,[127],[1.0])|        8.0| (29,[8],[1.0])|\n",
      "+---------+--------+----+-----+-----+----+-----+-----+----+----+----------+-----------------+-----------+---------------+\n",
      "only showing top 20 rows\n",
      "\n"
     ]
    }
   ],
   "source": [
    "model2=  vendor_indexer.fit(encoded)\n",
    "indexed=model2.transform(encoded)\n",
    "encoded2 = vendor_Encoder.transform(indexed)\n",
    "encoded2.show()"
   ]
  },
  {
   "cell_type": "markdown",
   "metadata": {},
   "source": [
    "To input data into Spark ML it should be in from of labels and feature vectors. Below steps converts data into feature vectors and columns. "
   ]
  },
  {
   "cell_type": "code",
   "execution_count": 101,
   "metadata": {
    "collapsed": true
   },
   "outputs": [],
   "source": [
    "assembler = VectorAssembler(inputCols=['vendorVec','modelVec','MYCT', 'MMIN', 'MMAX', 'CACH', 'CHMIN', 'CHMAX', 'PRP'],outputCol='features')\n"
   ]
  },
  {
   "cell_type": "code",
   "execution_count": 102,
   "metadata": {
    "collapsed": false
   },
   "outputs": [
    {
     "name": "stdout",
     "output_type": "stream",
     "text": [
      "+---------+--------+----+-----+-----+----+-----+-----+----+----+----------+-----------------+-----------+---------------+--------------------+\n",
      "|   vendor|   model|MYCT| MMIN| MMAX|CACH|CHMIN|CHMAX| PRP| ERP|modelIndex|         modelVec|vendorIndex|      vendorVec|            features|\n",
      "+---------+--------+----+-----+-----+----+-----+-----+----+----+----------+-----------------+-----------+---------------+--------------------+\n",
      "|  adviser|   32/60| 125|  256| 6000| 256|   16|  128| 198| 199|     181.0|(208,[181],[1.0])|       28.0|(29,[28],[1.0])|(244,[28,210,237,...|\n",
      "|   amdahl|  470v/7|  29| 8000|32000|  32|    8|   32| 269| 253|     131.0|(208,[131],[1.0])|        6.0| (29,[6],[1.0])|(244,[6,160,237,2...|\n",
      "|   amdahl| 470v/7a|  29| 8000|32000|  32|    8|   32| 220| 253|      51.0| (208,[51],[1.0])|        6.0| (29,[6],[1.0])|(244,[6,80,237,23...|\n",
      "|   amdahl| 470v/7b|  29| 8000|32000|  32|    8|   32| 172| 253|     196.0|(208,[196],[1.0])|        6.0| (29,[6],[1.0])|(244,[6,225,237,2...|\n",
      "|   amdahl| 470v/7c|  29| 8000|16000|  32|    8|   16| 132| 132|      43.0| (208,[43],[1.0])|        6.0| (29,[6],[1.0])|(244,[6,72,237,23...|\n",
      "|   amdahl|  470v/b|  26| 8000|32000|  64|    8|   32| 318| 290|      29.0| (208,[29],[1.0])|        6.0| (29,[6],[1.0])|(244,[6,58,237,23...|\n",
      "|   amdahl|580-5840|  23|16000|32000|  64|   16|   32| 367| 381|      89.0| (208,[89],[1.0])|        6.0| (29,[6],[1.0])|(244,[6,118,237,2...|\n",
      "|   amdahl|580-5850|  23|16000|32000|  64|   16|   32| 489| 381|     167.0|(208,[167],[1.0])|        6.0| (29,[6],[1.0])|(244,[6,196,237,2...|\n",
      "|   amdahl|580-5860|  23|16000|64000|  64|   16|   32| 636| 749|      69.0| (208,[69],[1.0])|        6.0| (29,[6],[1.0])|(244,[6,98,237,23...|\n",
      "|   amdahl|580-5880|  23|32000|64000| 128|   32|   64|1144|1238|     148.0|(208,[148],[1.0])|        6.0| (29,[6],[1.0])|(244,[6,177,237,2...|\n",
      "|   apollo|   dn320| 400| 1000| 3000|   0|    1|    2|  38|  23|     135.0|(208,[135],[1.0])|       24.0|(29,[24],[1.0])|(244,[24,164,237,...|\n",
      "|   apollo|   dn420| 400|  512| 3500|   4|    1|    6|  40|  24|      58.0| (208,[58],[1.0])|       24.0|(29,[24],[1.0])|(244,[24,87,237,2...|\n",
      "|     basf|    7/65|  60| 2000| 8000|  65|    1|    8|  92|  70|      45.0| (208,[45],[1.0])|       23.0|(29,[23],[1.0])|(244,[23,74,237,2...|\n",
      "|     basf|    7/68|  50| 4000|16000|  65|    1|    8| 138| 117|     105.0|(208,[105],[1.0])|       23.0|(29,[23],[1.0])|(244,[23,134,237,...|\n",
      "|      bti|    5000| 350|   64|   64|   0|    1|    4|  10|  15|     189.0|(208,[189],[1.0])|       22.0|(29,[22],[1.0])|(244,[22,218,237,...|\n",
      "|      bti|    8000| 200|  512|16000|   0|    4|   32|  35|  64|     111.0|(208,[111],[1.0])|       22.0|(29,[22],[1.0])|(244,[22,140,237,...|\n",
      "|burroughs|   b1955| 167|  524| 2000|   8|    4|   15|  19|  23|     175.0|(208,[175],[1.0])|        8.0| (29,[8],[1.0])|(244,[8,204,237,2...|\n",
      "|burroughs|   b2900| 143|  512| 5000|   0|    7|   32|  28|  29|     173.0|(208,[173],[1.0])|        8.0| (29,[8],[1.0])|(244,[8,202,237,2...|\n",
      "|burroughs|   b2925| 143| 1000| 2000|   0|    5|   16|  31|  22|     166.0|(208,[166],[1.0])|        8.0| (29,[8],[1.0])|(244,[8,195,237,2...|\n",
      "|burroughs|   b4955| 110| 5000| 5000| 142|    8|   64| 120| 124|     127.0|(208,[127],[1.0])|        8.0| (29,[8],[1.0])|(244,[8,156,237,2...|\n",
      "+---------+--------+----+-----+-----+----+-----+-----+----+----+----------+-----------------+-----------+---------------+--------------------+\n",
      "only showing top 20 rows\n",
      "\n"
     ]
    }
   ],
   "source": [
    "output = assembler.transform(encoded2)\n",
    "output.show()"
   ]
  },
  {
   "cell_type": "code",
   "execution_count": 103,
   "metadata": {
    "collapsed": true
   },
   "outputs": [],
   "source": [
    "#from pyspark.ml.feature import StandardScaler\n",
    "#scaler = StandardScaler(inputCol='features', outputCol=\"scaled_features\", withStd=True, withMean=False)\n",
    "#scalerModel = scaler.fit(output)\n",
    "#output = scalerModel.transform(output)"
   ]
  },
  {
   "cell_type": "markdown",
   "metadata": {},
   "source": [
    "Implementing Linear Regression model"
   ]
  },
  {
   "cell_type": "code",
   "execution_count": 113,
   "metadata": {
    "collapsed": true
   },
   "outputs": [],
   "source": [
    "from pyspark.ml.regression import LinearRegression\n",
    "lr=LinearRegression(featuresCol='features',labelCol='ERP')"
   ]
  },
  {
   "cell_type": "code",
   "execution_count": 114,
   "metadata": {
    "collapsed": true
   },
   "outputs": [],
   "source": [
    "train_data, test_data = output.randomSplit([0.7,.3])\n",
    "fit_model = lr.fit(train_data)"
   ]
  },
  {
   "cell_type": "code",
   "execution_count": 115,
   "metadata": {
    "collapsed": true
   },
   "outputs": [],
   "source": [
    "results = fit_model.transform(test_data)"
   ]
  },
  {
   "cell_type": "code",
   "execution_count": 116,
   "metadata": {
    "collapsed": false
   },
   "outputs": [
    {
     "data": {
      "text/plain": [
       "['vendor',\n",
       " 'model',\n",
       " 'MYCT',\n",
       " 'MMIN',\n",
       " 'MMAX',\n",
       " 'CACH',\n",
       " 'CHMIN',\n",
       " 'CHMAX',\n",
       " 'PRP',\n",
       " 'ERP',\n",
       " 'modelIndex',\n",
       " 'modelVec',\n",
       " 'vendorIndex',\n",
       " 'vendorVec',\n",
       " 'features',\n",
       " 'prediction']"
      ]
     },
     "execution_count": 116,
     "metadata": {},
     "output_type": "execute_result"
    }
   ],
   "source": [
    "results.columns"
   ]
  },
  {
   "cell_type": "markdown",
   "metadata": {},
   "source": [
    "Evaluating model on test data. Metrics calculated are mean absolute error and R-squared error"
   ]
  },
  {
   "cell_type": "code",
   "execution_count": 119,
   "metadata": {
    "collapsed": false
   },
   "outputs": [
    {
     "data": {
      "text/plain": [
       "7.897154542423447e-07"
      ]
     },
     "execution_count": 119,
     "metadata": {},
     "output_type": "execute_result"
    }
   ],
   "source": [
    "test_results = fit_model.evaluate(test_data)\n",
    "fit_model.summary.meanAbsoluteError"
   ]
  },
  {
   "cell_type": "code",
   "execution_count": 120,
   "metadata": {
    "collapsed": false
   },
   "outputs": [
    {
     "name": "stdout",
     "output_type": "stream",
     "text": [
      "R2: 90.11736819084928\n"
     ]
    }
   ],
   "source": [
    "print (\"R2: {}\".format(test_results.r2*100))"
   ]
  },
  {
   "cell_type": "code",
   "execution_count": 121,
   "metadata": {
    "collapsed": false
   },
   "outputs": [
    {
     "name": "stdout",
     "output_type": "stream",
     "text": [
      "+---+------------------+\n",
      "|ERP|        prediction|\n",
      "+---+------------------+\n",
      "|199| 283.6454928791197|\n",
      "|253|304.88131331198707|\n",
      "|132|221.95012748486383|\n",
      "| 24| 26.53637965616452|\n",
      "| 23|11.384411789344092|\n",
      "| 28|27.590608311724022|\n",
      "| 21| 24.56291117560935|\n",
      "| 28|26.287349297217293|\n",
      "| 22|16.674202141115472|\n",
      "| 74| 75.64039475936923|\n",
      "| 74|     79.1758015445|\n",
      "| 74| 85.74510971765501|\n",
      "|138|139.64319439942466|\n",
      "|136|161.25128579151536|\n",
      "| 44|38.633114673065045|\n",
      "| 54| 68.67368534574764|\n",
      "| 41|  58.0302471667936|\n",
      "| 19|10.089008882076318|\n",
      "| 56| 57.40504067890669|\n",
      "| 34| 32.15322801325483|\n",
      "+---+------------------+\n",
      "only showing top 20 rows\n",
      "\n"
     ]
    }
   ],
   "source": [
    "results.select(['ERP', 'prediction']).show()"
   ]
  },
  {
   "cell_type": "markdown",
   "metadata": {},
   "source": [
    "If you look at ERP and prediction column above, there is huge difference for some rows. We only have 209 instances to built the model and more data might help with increasing model accuracy"
   ]
  },
  {
   "cell_type": "code",
   "execution_count": null,
   "metadata": {
    "collapsed": true
   },
   "outputs": [],
   "source": []
  }
 ],
 "metadata": {
  "kernelspec": {
   "display_name": "Python 2",
   "language": "python",
   "name": "python2"
  },
  "language_info": {
   "codemirror_mode": {
    "name": "ipython",
    "version": 2
   },
   "file_extension": ".py",
   "mimetype": "text/x-python",
   "name": "python",
   "nbconvert_exporter": "python",
   "pygments_lexer": "ipython2",
   "version": "2.7.13"
  }
 },
 "nbformat": 4,
 "nbformat_minor": 2
}
